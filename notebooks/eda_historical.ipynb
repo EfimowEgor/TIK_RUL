{
 "cells": [
  {
   "cell_type": "code",
   "execution_count": null,
   "metadata": {},
   "outputs": [],
   "source": [
    "import pandas as pd\n",
    "import numpy as np\n",
    "\n",
    "from DataLoader import (\n",
    "    loader,\n",
    "    config\n",
    ")\n",
    "\n",
    "from Processer import preprocesser\n",
    "\n",
    "import os"
   ]
  },
  {
   "cell_type": "markdown",
   "metadata": {},
   "source": [
    "Исследование сигналов всех аварий, выделение паттернов"
   ]
  },
  {
   "cell_type": "markdown",
   "metadata": {},
   "source": [
    "Я считаю, что обобщить сразу нельзя, поэтому будет избран другой подход, но снова займёмся исследованием признаков."
   ]
  },
  {
   "cell_type": "markdown",
   "metadata": {},
   "source": [
    "# Загрузка данных"
   ]
  },
  {
   "cell_type": "code",
   "execution_count": null,
   "metadata": {},
   "outputs": [],
   "source": [
    "# files = os.path.join(config.DATA_PATH, \"historical\")\n",
    "path = \"../data/raw/historical\"\n",
    "files = sorted(os.listdir(path))\n",
    "\n",
    "h22 = files[0:5]\n",
    "h230b = files[5:9]\n",
    "h303b = files[9:13]\n",
    "h60 = files[13:17]\n",
    "\n",
    "files = [h22, h230b, h303b, h60]"
   ]
  },
  {
   "cell_type": "code",
   "execution_count": null,
   "metadata": {},
   "outputs": [],
   "source": [
    "# считываем информацию по каждой аварии\n",
    "params = []\n",
    "\n",
    "for item in files:\n",
    "    col = []\n",
    "    for file in item:\n",
    "        df = pd.read_csv(os.path.join(path, file), skiprows=config.COUNT_SKIP, sep=';')\n",
    "        df = loader.fill_empty(loader.transform_header(df))\n",
    "        df = preprocesser.compress(df, floor=\"10m\", method=\"mean\")\n",
    "\n",
    "        col.append(df)\n",
    "    params.append(col)\n",
    "del df, col"
   ]
  },
  {
   "cell_type": "code",
   "execution_count": null,
   "metadata": {},
   "outputs": [],
   "source": [
    "for elem in params[0]:\n",
    "    loader.fill_empty(elem)"
   ]
  },
  {
   "cell_type": "code",
   "execution_count": null,
   "metadata": {},
   "outputs": [],
   "source": []
  }
 ],
 "metadata": {
  "kernelspec": {
   "display_name": ".venv",
   "language": "python",
   "name": "python3"
  },
  "language_info": {
   "codemirror_mode": {
    "name": "ipython",
    "version": 3
   },
   "file_extension": ".py",
   "mimetype": "text/x-python",
   "name": "python",
   "nbconvert_exporter": "python",
   "pygments_lexer": "ipython3",
   "version": "3.10.7"
  }
 },
 "nbformat": 4,
 "nbformat_minor": 2
}
