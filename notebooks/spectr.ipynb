{
 "cells": [
  {
   "cell_type": "code",
   "execution_count": null,
   "metadata": {},
   "outputs": [],
   "source": [
    "import mlflow\n",
    "\n",
    "import pandas as pd\n",
    "import numpy as np\n",
    "\n",
    "from scipy.stats import kurtosis\n",
    "from scipy.fftpack import fft, ifft, fftshift\n",
    "from scipy.signal import (\n",
    "    spectrogram,\n",
    "    welch,\n",
    "    ShortTimeFFT,\n",
    "    stft\n",
    ")\n",
    "\n",
    "from DataLoader import (\n",
    "    loader,\n",
    "    config\n",
    ")\n",
    "\n",
    "from Processer import preprocesser\n",
    "\n",
    "import seaborn as sns\n",
    "import matplotlib.pyplot as plt"
   ]
  },
  {
   "cell_type": "code",
   "execution_count": null,
   "metadata": {},
   "outputs": [],
   "source": [
    "def spectral_kurtosis(signal, fs, window_size, overlap):\n",
    "    f, t, Zxx = stft(signal, fs=fs, nperseg=window_size, noverlap=int(window_size * overlap))\n",
    "    \n",
    "    kurtosis_values = np.mean(np.power(np.abs(Zxx), 4), axis=0) / np.power(np.mean(np.power(np.abs(Zxx), 2), axis=0), 2) - 2\n",
    "    \n",
    "    return f, t, kurtosis_values\n"
   ]
  },
  {
   "cell_type": "code",
   "execution_count": null,
   "metadata": {},
   "outputs": [],
   "source": [
    "df = pd.read_csv('../data/raw/spectr/5_2.csv', sep=';', skiprows=16)\n",
    "# Проверяется на одной выборке\n",
    "# df.drop('DateTime', axis=1, inplace=True)\n",
    "# df = loader.fill_empty(loader.transform_header(df))\n",
    "# Compress signal\n",
    "# compressed = preprocesser.compress(df, floor='10min', method='mean')"
   ]
  },
  {
   "cell_type": "code",
   "execution_count": null,
   "metadata": {},
   "outputs": [],
   "source": [
    "df"
   ]
  },
  {
   "cell_type": "code",
   "execution_count": null,
   "metadata": {},
   "outputs": [],
   "source": [
    "df['Signals'] = df['Signals'].str.replace(',', '.').astype(float)"
   ]
  },
  {
   "cell_type": "code",
   "execution_count": null,
   "metadata": {},
   "outputs": [],
   "source": [
    "kurtosis(df['Signals'])"
   ]
  },
  {
   "cell_type": "code",
   "execution_count": null,
   "metadata": {},
   "outputs": [],
   "source": [
    "x = df['Signals'].to_numpy()\n",
    "\n",
    "# Z-form:\n",
    "# X(z) = 1 + 2z^(-1)+z^(-3), where z = exp(-jwT)\n",
    "\n",
    "# Forward FFT\n",
    "N = 30193\n",
    "\n",
    "xFFT = fft(x, N)\n",
    "# Magnitude spectrum\n",
    "xA = np.abs(xFFT)\n",
    "# Phase spectrum\n",
    "xF = np.angle(xFFT)\n",
    "\n",
    "# Complex\n",
    "xReal = np.real(xFFT)\n",
    "xImag = np.imag(xFFT)\n",
    "\n",
    "# List of signals\n",
    "xT = [x, xA, xF, np.array([xReal, xImag]).T]\n",
    "lst_title = ['Signal', 'Spectrum', 'Phase', 'Real / Imag']\n",
    "\n",
    "# Plot results\n",
    "# fig = plt.figure(figsize=(12, 6), dpi=80)\n",
    "# for i, sig in enumerate(xT):\n",
    "#     plt.subplot(2, 2, i+1)\n",
    "#     plt.ylabel('Level')\n",
    "#     plt.title(lst_title[i])\n",
    "#     if i == 0:\n",
    "#         plt.stem(sig, basefmt='C0')\n",
    "#         plt.xlabel('Time samples')\n",
    "#         plt.xlim([-0.25, len(x)-0.75])\n",
    "#     else:\n",
    "#         plt.plot(sig)\n",
    "#         plt.xlabel('Freq samples')\n",
    "#         plt.xlim([0, N-1])\n",
    "#     plt.grid()\n",
    "# plt.tight_layout()\n",
    "plt.plot(xA)"
   ]
  },
  {
   "cell_type": "code",
   "execution_count": null,
   "metadata": {},
   "outputs": [],
   "source": [
    "# plt.plot(spectrogram(x, 30193, scaling='spectrum')[1])\n",
    "f, t, Sxx = spectrogram(x, 30193.5)\n",
    "plt.pcolormesh(t, f, Sxx, shading='gouraud')\n",
    "plt.ylabel('Frequency [Hz]')\n",
    "plt.xlabel('Time [sec]')\n",
    "plt.show()"
   ]
  },
  {
   "cell_type": "code",
   "execution_count": null,
   "metadata": {},
   "outputs": [],
   "source": [
    "spectral_kurtosis(x, 30193, 128), kurtosis(x)"
   ]
  },
  {
   "cell_type": "code",
   "execution_count": null,
   "metadata": {},
   "outputs": [],
   "source": [
    "fs = 30193.5 # частота дискретизации (в Гц)\n",
    "t = np.arange(0, 1, 1/fs)  # временная шкала\n",
    "signal = x  # Пример сигнала\n",
    "window_size = 100\n",
    "overlap = .1\n",
    "f, t, kurtosis_values = spectral_kurtosis(signal, fs, window_size, overlap)\n",
    "sns.lineplot(x=t, y = kurtosis_values)"
   ]
  },
  {
   "cell_type": "code",
   "execution_count": null,
   "metadata": {},
   "outputs": [],
   "source": []
  }
 ],
 "metadata": {
  "kernelspec": {
   "display_name": ".venv",
   "language": "python",
   "name": "python3"
  },
  "language_info": {
   "codemirror_mode": {
    "name": "ipython",
    "version": 3
   },
   "file_extension": ".py",
   "mimetype": "text/x-python",
   "name": "python",
   "nbconvert_exporter": "python",
   "pygments_lexer": "ipython3",
   "version": "3.12.3"
  }
 },
 "nbformat": 4,
 "nbformat_minor": 2
}
