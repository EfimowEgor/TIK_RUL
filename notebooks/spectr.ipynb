{
 "cells": [
  {
   "cell_type": "code",
   "execution_count": null,
   "metadata": {},
   "outputs": [],
   "source": [
    "import pandas as pd\n",
    "import numpy as np\n",
    "\n",
    "from scipy.fft import fft\n",
    "\n",
    "from DataLoader import (\n",
    "    loader,\n",
    "    config\n",
    ")\n",
    "\n",
    "from Processer import preprocesser\n",
    "\n",
    "import matplotlib.pyplot as plt"
   ]
  },
  {
   "cell_type": "code",
   "execution_count": null,
   "metadata": {},
   "outputs": [],
   "source": [
    "df = pd.read_csv('../data/raw/spectr/single_column.txt', sep='\\t', header=None)\n",
    "# df = loader.fill_empty(loader.transform_header(df))\n",
    "# Compress signal\n",
    "# compressed = preprocesser.compress(df, floor='10min', method='mean')"
   ]
  },
  {
   "cell_type": "code",
   "execution_count": null,
   "metadata": {},
   "outputs": [],
   "source": [
    "df[0] = df[0].str.replace(',', '.').astype(float)"
   ]
  },
  {
   "cell_type": "code",
   "execution_count": null,
   "metadata": {},
   "outputs": [],
   "source": [
    "import numpy as np\n",
    "from scipy.fft import fft\n",
    "import matplotlib.pyplot as plt\n",
    "\n",
    "# Предположим, что у вас есть массив данных data\n",
    "# data = [ваш массив данных]\n",
    "\n",
    "# Выполним преобразование Фурье\n",
    "fft_result = fft(df)\n",
    "\n",
    "# Найдем амплитудный спектр (модуль преобразования Фурье)\n",
    "amplitude_spectrum = np.abs(fft_result)\n",
    "\n",
    "# Создадим массив частот, соответствующих каждой точке в спектре\n",
    "# Частота = индекс / общее количество точек * частота дискретизации\n",
    "frequency = np.fft.fftfreq(len(df), d=1.0/30193.5)\n",
    "\n",
    "# Построим график амплитудного спектра\n",
    "plt.plot(frequency[:len(df)//2], amplitude_spectrum[:len(df)//2])\n",
    "plt.xlabel('Frequency (Hz)')\n",
    "plt.ylabel('Ускорение')\n",
    "plt.title('Frequency Spectrum')\n",
    "plt.grid(True)\n",
    "plt.show()"
   ]
  },
  {
   "cell_type": "code",
   "execution_count": null,
   "metadata": {},
   "outputs": [],
   "source": []
  }
 ],
 "metadata": {
  "kernelspec": {
   "display_name": ".venv",
   "language": "python",
   "name": "python3"
  },
  "language_info": {
   "codemirror_mode": {
    "name": "ipython",
    "version": 3
   },
   "file_extension": ".py",
   "mimetype": "text/x-python",
   "name": "python",
   "nbconvert_exporter": "python",
   "pygments_lexer": "ipython3",
   "version": "3.10.7"
  }
 },
 "nbformat": 4,
 "nbformat_minor": 2
}
