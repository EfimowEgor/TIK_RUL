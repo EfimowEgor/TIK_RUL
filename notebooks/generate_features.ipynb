{
 "cells": [
  {
   "cell_type": "code",
   "execution_count": null,
   "metadata": {},
   "outputs": [],
   "source": [
    "import os\n",
    "\n",
    "from DataLoader import (\n",
    "    config,\n",
    "    loader\n",
    ")\n",
    "\n",
    "import pandas as pd\n",
    "import numpy as np\n",
    "import matplotlib.pyplot as plt\n",
    "import seaborn as sns"
   ]
  },
  {
   "cell_type": "code",
   "execution_count": null,
   "metadata": {},
   "outputs": [],
   "source": [
    "# Read and process all given features\n",
    "# How do we want store csv's\n",
    "data_path = '../data/raw/'\n",
    "\n",
    "files = os.listdir(data_path)\n",
    "\n",
    "dta = []\n",
    "\n",
    "for file in files:\n",
    "    df = pd.read_csv(os.path.join(data_path, file), skiprows=config.COUNT_SKIP, sep=';')\n",
    "    df = loader.fill_empty(loader.transform_header(df))\n",
    "    splitted = loader.split(df.columns[1:])\n",
    "    group = loader.group(splitted, df)\n",
    "\n",
    "    dta.append(group)\n",
    "\n",
    "dta\n"
   ]
  },
  {
   "cell_type": "code",
   "execution_count": null,
   "metadata": {},
   "outputs": [],
   "source": []
  }
 ],
 "metadata": {
  "kernelspec": {
   "display_name": ".venv",
   "language": "python",
   "name": "python3"
  },
  "language_info": {
   "codemirror_mode": {
    "name": "ipython",
    "version": 3
   },
   "file_extension": ".py",
   "mimetype": "text/x-python",
   "name": "python",
   "nbconvert_exporter": "python",
   "pygments_lexer": "ipython3",
   "version": "3.10.7"
  }
 },
 "nbformat": 4,
 "nbformat_minor": 2
}
