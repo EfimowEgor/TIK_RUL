{
 "cells": [
  {
   "cell_type": "code",
   "execution_count": null,
   "metadata": {},
   "outputs": [],
   "source": [
    "import os\n",
    "\n",
    "from DataLoader import (\n",
    "    config,\n",
    "    loader\n",
    ")\n",
    "\n",
    "import pandas as pd\n",
    "import numpy as np\n",
    "from scipy.stats import norm\n",
    "from scipy.optimize import curve_fit\n",
    "\n",
    "import matplotlib.pyplot as plt\n",
    "import seaborn as sns\n",
    "\n",
    "from copy import deepcopy\n",
    " \n",
    "from sklearn.preprocessing import (\n",
    "    MinMaxScaler,\n",
    "    PolynomialFeatures\n",
    ")\n",
    "from sklearn.metrics import mean_squared_error"
   ]
  },
  {
   "cell_type": "code",
   "execution_count": null,
   "metadata": {},
   "outputs": [],
   "source": [
    "# Я понял как нужно считывать данные, какой должна быть конечная структуру\n",
    "data_path = '../data/raw/'\n",
    "\n",
    "files = os.listdir(data_path)\n",
    "\n",
    "# make a dict, key - file_name_last part\n",
    "dta = dict()\n",
    "\n",
    "for file in files:\n",
    "    df = pd.read_csv(os.path.join(data_path, file), skiprows=config.COUNT_SKIP, sep=';')\n",
    "    df = loader.fill_empty(loader.transform_header(df))\n",
    "    splitted = loader.split(df.columns[1:])\n",
    "    group = loader.group(splitted, df)\n",
    "\n",
    "    dta[file] = group"
   ]
  },
  {
   "cell_type": "code",
   "execution_count": null,
   "metadata": {},
   "outputs": [],
   "source": [
    "df = pd.read_csv(os.path.join(data_path, 'month_csv_acceleration_10khz.csv'), skiprows=config.COUNT_SKIP, sep=';')\n",
    "df = loader.fill_empty(loader.transform_header(df))"
   ]
  },
  {
   "cell_type": "code",
   "execution_count": null,
   "metadata": {},
   "outputs": [],
   "source": [
    "def tkeo_operator(data, k = 1):\n",
    "    \"\"\" \n",
    "    Teager-Kaiser Energy operator\n",
    "    \"\"\"\n",
    "    npnts = len(data[0])\n",
    "    nsignals = len(data)\n",
    "    filt_data = deepcopy(data)\n",
    "    for i in range(nsignals):\n",
    "        for n in range(k, npnts-k):\n",
    "            filt_data[i][n] = data[i][n]**2-data[i][n-1]*data[i][n+1]\n",
    "    return filt_data\n",
    "\n",
    "def normilize(signal: np.ndarray):\n",
    "    \"\"\"\n",
    "    MinMaxScaler + Teager-Kaiser Operator + Scaler\n",
    "    \"\"\"\n",
    "    # scalers = [MinMaxScaler, StandardScaler]\n",
    "    scaler = MinMaxScaler(feature_range=(0, 1))\n",
    "    signal = scaler.fit_transform(signal)\n",
    "    print(f'norm1 max: {signal.max()}, min: {signal.min()}')\n",
    "    signal = tkeo_operator(signal)\n",
    "    print(f'tkeo max: {signal.max()}, min: {signal.min()}')\n",
    "    signal = scaler.fit_transform(signal)\n",
    "    print(f'norm2 max: {signal.max()}, min: {signal.min()}')\n",
    "    return signal\n"
   ]
  },
  {
   "cell_type": "code",
   "execution_count": null,
   "metadata": {},
   "outputs": [],
   "source": [
    "series = normilize(df['3.Вибропреобразователь ППНг 3_2 СКЗ Виброускорения 10 кГц'].to_numpy().reshape(-1, 1))[:2000]\n",
    "series_plot = normilize(df['3.Вибропреобразователь ППНг 3_2 СКЗ Виброускорения 10 кГц'].to_numpy().reshape(-1, 1))[2000:]\n",
    "\n",
    "l, u = norm.interval(0.95, loc=series.mean(), scale=series.std())\n",
    "\n",
    "plt.axhline(series.mean(), c='r', label='expected_value')\n",
    "plt.fill_between(np.arange(10000), (series.mean() - l), (series.mean() + u), color='blue', alpha=.1)\n",
    "plt.plot(np.arange(len(series_plot)), series_plot, label='signal')"
   ]
  },
  {
   "cell_type": "code",
   "execution_count": null,
   "metadata": {},
   "outputs": [],
   "source": [
    "# df_ex = pd.read_csv(os.path.join(data_path, 'month_csv_excess.csv'), skiprows=config.COUNT_SKIP, sep=';')\n",
    "# df_ex = loader.fill_empty(loader.transform_header(df_ex))"
   ]
  },
  {
   "cell_type": "markdown",
   "metadata": {},
   "source": [
    "Этот график ничего не говорит о совместном распределении"
   ]
  },
  {
   "cell_type": "code",
   "execution_count": null,
   "metadata": {},
   "outputs": [],
   "source": [
    "# # Генерация двух выборок (X и Y)\n",
    "# np.random.seed(0)\n",
    "# sample_size = 100\n",
    "# X = df['1.Вибропреобразователь ПЗДг 5_2 СКЗ Виброускорения 10 кГц'].to_numpy()[:9100]\n",
    "# Y = df_ex['1.Вибропреобразователь ПЗДг 5_2 Эксцесс'].to_numpy()[:9100]\n",
    "\n",
    "# # Построение гистограммы двумерных данных с нормированными частотами\n",
    "# plt.hist2d(X, Y, bins=100, cmap='Blues')\n",
    "# plt.xlabel('X (Ускорение)')\n",
    "# plt.ylabel('Y (Эксцесс)')\n",
    "# plt.title('Совместное распределение вероятностей двумерной случайной величины (Ускорение, Эксцесс)')\n",
    "# plt.colorbar(label='Частота')\n",
    "# plt.show()"
   ]
  },
  {
   "cell_type": "markdown",
   "metadata": {},
   "source": [
    "Тут скорее всего ошибка, потому что границы имеют странные значения"
   ]
  },
  {
   "cell_type": "code",
   "execution_count": null,
   "metadata": {},
   "outputs": [],
   "source": [
    "# # Генерация исходных данных (ускорение и эксцесс)\n",
    "# np.random.seed(0)\n",
    "# size = 100\n",
    "# acceleration = df['1.Вибропреобразователь ПЗДг 5_2 СКЗ Виброускорения 10 кГц'][:8000].to_numpy()\n",
    "# excess = df_ex['1.Вибропреобразователь ПЗДг 5_2 Эксцесс'][:8000].to_numpy()\n",
    "\n",
    "# # Функция для оценки доверительной области методом бутстрэпа\n",
    "# def bootstrap_confidence_interval(data_x, data_y, n_bootstrap_samples=1000, alpha=0.05):\n",
    "#     bootstrap_indices = np.random.choice(len(data_x), size=(n_bootstrap_samples, len(data_x)), replace=True)\n",
    "#     bootstrap_means_x = np.mean(data_x[bootstrap_indices], axis=1)\n",
    "#     bootstrap_means_y = np.mean(data_y[bootstrap_indices], axis=1)\n",
    "#     sorted_means_x = np.sort(bootstrap_means_x)\n",
    "#     sorted_means_y = np.sort(bootstrap_means_y)\n",
    "#     lower_index = int((n_bootstrap_samples - 1) * alpha / 2)\n",
    "#     upper_index = int((n_bootstrap_samples - 1) * (1 - alpha / 2))\n",
    "#     lower_bound_x, upper_bound_x = sorted_means_x[lower_index], sorted_means_x[upper_index]\n",
    "#     lower_bound_y, upper_bound_y = sorted_means_y[lower_index], sorted_means_y[upper_index]\n",
    "#     return (lower_bound_x, upper_bound_x), (lower_bound_y, upper_bound_y)\n",
    "\n",
    "# # Построение доверительной области\n",
    "# lower_bounds, upper_bounds = bootstrap_confidence_interval(acceleration, excess)\n",
    "# plt.scatter(acceleration, excess, label='Исходные данные')\n",
    "# plt.xlabel('Ускорение')\n",
    "# plt.ylabel('Эксцесс')\n",
    "# plt.title('Доверительная область для двумерной случайной величины Эксцесс/Ускорение')\n",
    "# plt.axhline(lower_bounds[1], color='r', linestyle='--', label='Нижняя граница (Эксцесс)')\n",
    "# plt.axhline(upper_bounds[1], color='r', linestyle='--', label='Верхняя граница (Эксцесс)')\n",
    "# plt.axvline(lower_bounds[0], color='g', linestyle='--', label='Нижняя граница (Ускорение)')\n",
    "# plt.axvline(upper_bounds[0], color='g', linestyle='--', label='Верхняя граница (Ускорение)')\n",
    "# plt.fill_between(np.arange(35), lower_bounds[1], upper_bounds[1], alpha=.1)\n",
    "# plt.fill_between(np.arange(25), lower_bounds[0], upper_bounds[0], alpha=.1)\n",
    "# # plt.legend()\n",
    "# plt.grid(True)\n",
    "# plt.show()\n"
   ]
  },
  {
   "cell_type": "markdown",
   "metadata": {},
   "source": [
    "Генерируем полиномиальные признаки (Пока что их применимость остаётся под вопросов).  \n",
    "Не интересуют сигналы (признаки), которые представляют собой x^2, x^3, ..., x^n, т.е. простое возведение в степень изначального сигнала"
   ]
  },
  {
   "cell_type": "markdown",
   "metadata": {},
   "source": [
    "Полиномиальные признаки должны генерироваться по группам, потому что иначе смешиваются данные с разных датчиков"
   ]
  },
  {
   "cell_type": "markdown",
   "metadata": {},
   "source": [
    "Признаки мусор, можно было не тратить время"
   ]
  },
  {
   "cell_type": "code",
   "execution_count": null,
   "metadata": {},
   "outputs": [],
   "source": [
    "# fig, ax = plt.subplots(1, 1, figsize=(12, 12))\n",
    "\n",
    "generator = PolynomialFeatures(degree=3, interaction_only=True)\n",
    "\n",
    "# for item in generator.fit_transform(df.drop('date', axis=1)):\n",
    "#     sns.lineplot(item)\n",
    "\n",
    "# test = generator.fit_transform(df.drop('date', axis=1))\n",
    "# print(generator.get_feature_names_out())\n",
    "# for i, item in enumerate(test[:, 16:].T):\n",
    "#     ax.plot(normilize(item.reshape(-1, 1)), label=i)\n",
    "\n",
    "# plt.legend()"
   ]
  },
  {
   "cell_type": "code",
   "execution_count": null,
   "metadata": {},
   "outputs": [],
   "source": []
  },
  {
   "cell_type": "markdown",
   "metadata": {},
   "source": [
    "Рассмотрение параметров 10 кГц выборки"
   ]
  },
  {
   "cell_type": "code",
   "execution_count": null,
   "metadata": {},
   "outputs": [],
   "source": [
    "def fit_poly(x, *args):\n",
    "    params = args\n",
    "    print(params)"
   ]
  },
  {
   "cell_type": "code",
   "execution_count": null,
   "metadata": {},
   "outputs": [],
   "source": []
  }
 ],
 "metadata": {
  "kernelspec": {
   "display_name": ".venv",
   "language": "python",
   "name": "python3"
  },
  "language_info": {
   "codemirror_mode": {
    "name": "ipython",
    "version": 3
   },
   "file_extension": ".py",
   "mimetype": "text/x-python",
   "name": "python",
   "nbconvert_exporter": "python",
   "pygments_lexer": "ipython3",
   "version": "3.10.7"
  }
 },
 "nbformat": 4,
 "nbformat_minor": 2
}
