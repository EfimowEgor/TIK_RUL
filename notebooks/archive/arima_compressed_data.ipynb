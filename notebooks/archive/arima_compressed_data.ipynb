{
 "cells": [
  {
   "cell_type": "code",
   "execution_count": null,
   "metadata": {},
   "outputs": [],
   "source": [
    "from DataLoader import (\n",
    "    config,\n",
    "    loader\n",
    ")\n",
    "\n",
    "from copy import deepcopy\n",
    "\n",
    "import pandas as pd\n",
    "import numpy as np\n",
    "\n",
    "import matplotlib.pyplot as plt\n",
    "import seaborn as sns\n",
    "\n",
    "from sklearn.preprocessing import MinMaxScaler\n",
    "from sklearn.decomposition import (\n",
    "    TruncatedSVD,\n",
    "    PCA\n",
    ")\n",
    "from sklearn.metrics import (\n",
    "    mean_absolute_error,\n",
    "    mean_squared_error\n",
    ")\n",
    "\n",
    "import pmdarima as pm\n",
    "from statsmodels.tsa.arima.model import ARIMA"
   ]
  },
  {
   "cell_type": "markdown",
   "metadata": {},
   "source": [
    "Read and transfrom"
   ]
  },
  {
   "cell_type": "code",
   "execution_count": null,
   "metadata": {},
   "outputs": [],
   "source": [
    "data_path = '../data/raw/month_csv_acceleration.csv'\n",
    "df = pd.read_csv(data_path, skiprows=config.COUNT_SKIP, sep=';')\n",
    "\n",
    "df = loader.fill_empty(loader.transform_header(df))\n",
    "splitted = loader.split(df.columns[1:])\n",
    "group = loader.group(splitted, df)"
   ]
  },
  {
   "cell_type": "markdown",
   "metadata": {},
   "source": [
    "TKEO: $\\psi [x(n)] = x^{2} (n) - x(n + 1)x(n - 1)$"
   ]
  },
  {
   "cell_type": "code",
   "execution_count": null,
   "metadata": {},
   "outputs": [],
   "source": [
    "def tkeo_operator(data, k = 1):\n",
    "    \"\"\" \n",
    "    Teager-Kaiser Energy operator\n",
    "    \"\"\"\n",
    "    npnts = len(data[0])\n",
    "    nsignals = len(data)\n",
    "    filt_data = deepcopy(data)\n",
    "    for i in range(nsignals):\n",
    "        for n in range(k, npnts-k):\n",
    "            filt_data[i][n] = data[i][n]**2-data[i][n-1]*data[i][n+1]\n",
    "    return filt_data\n",
    "\n",
    "def normilize(signal: np.ndarray):\n",
    "    \"\"\"\n",
    "    MinMaxScaler + Teager-Kaiser Operator + Scaler\n",
    "    \"\"\"\n",
    "    # scalers = [MinMaxScaler, StandardScaler]\n",
    "    scaler = MinMaxScaler(feature_range=(0, 1))\n",
    "    signal = scaler.fit_transform(signal)\n",
    "    print(f'norm1 max: {signal.max()}, min: {signal.min()}')\n",
    "    signal = tkeo_operator(signal)\n",
    "    print(f'tkeo max: {signal.max()}, min: {signal.min()}')\n",
    "    signal = scaler.fit_transform(signal)\n",
    "    print(f'norm2 max: {signal.max()}, min: {signal.min()}')\n",
    "    return signal\n"
   ]
  },
  {
   "cell_type": "code",
   "execution_count": null,
   "metadata": {},
   "outputs": [],
   "source": [
    "# len(dict['Н'][key]) // 2 - number of signals, \n",
    "# [-len(dict['Н'][key]) // 2:] - select signals\n",
    "sns.lineplot(normilize(group['Н']['ПЗН'][-1].reshape(-1, 1)))\n",
    "plt.title('Normilized signal')"
   ]
  },
  {
   "cell_type": "code",
   "execution_count": null,
   "metadata": {},
   "outputs": [],
   "source": [
    "tmp = pd.concat([df['date'], pd.DataFrame((normilize(group['Н']['ПЗН'][-1].reshape(-1, 1))))], axis=1)\n",
    "sns.lineplot(tmp.groupby(tmp.date.dt.floor('d'))[0].mean())\n",
    "# Plot params\n",
    "plt.xticks(rotation=90)\n",
    "plt.legend(labels=['acceleration_day'])\n",
    "plt.title('Compressed by day')\n",
    "# Only 28 data points"
   ]
  },
  {
   "cell_type": "code",
   "execution_count": null,
   "metadata": {},
   "outputs": [],
   "source": [
    "expanded = pd.DataFrame(tmp.groupby(tmp.date.dt.floor('h'))[0].apply(list).tolist()).ffill(axis=1)\n",
    "# expanded[expanded.isna().sum(axis=1) == expanded.shape[1] - 1]"
   ]
  },
  {
   "cell_type": "markdown",
   "metadata": {},
   "source": [
    "Compare series in start, mid & end"
   ]
  },
  {
   "cell_type": "code",
   "execution_count": null,
   "metadata": {},
   "outputs": [],
   "source": [
    "plt.plot(expanded.iloc[0, :], label='start')\n",
    "plt.plot(expanded.iloc[300, :], label='mid')\n",
    "plt.plot(expanded.iloc[600, :], label='end')\n",
    "plt.legend()"
   ]
  },
  {
   "cell_type": "markdown",
   "metadata": {},
   "source": [
    "Compare mean and svd"
   ]
  },
  {
   "cell_type": "code",
   "execution_count": null,
   "metadata": {},
   "outputs": [],
   "source": [
    "expanded = expanded.ffill(axis=1)\n",
    "expanded['compressed_tsvd'] = TruncatedSVD(n_components=1, algorithm='arpack', random_state=42).fit_transform(expanded)"
   ]
  },
  {
   "cell_type": "code",
   "execution_count": null,
   "metadata": {},
   "outputs": [],
   "source": [
    "plt.plot(tmp.groupby(tmp.date.dt.floor('h'))[0].mean().reset_index(drop=True), label='mean')\n",
    "plt.plot(expanded['compressed_tsvd'], label='tsvd')\n",
    "# Plot params\n",
    "plt.xticks(rotation=90)\n",
    "plt.legend()\n",
    "plt.title('Compressed by hour')\n",
    "plt.yscale('log')"
   ]
  },
  {
   "cell_type": "markdown",
   "metadata": {},
   "source": [
    "TRAIN"
   ]
  },
  {
   "cell_type": "markdown",
   "metadata": {},
   "source": [
    "Split data"
   ]
  },
  {
   "cell_type": "code",
   "execution_count": null,
   "metadata": {},
   "outputs": [],
   "source": [
    "def split_series(data, test_size):\n",
    "    train_set, test_set = np.split(data, [int(test_size *len(data))])\n",
    "    return train_set, test_set"
   ]
  },
  {
   "cell_type": "code",
   "execution_count": null,
   "metadata": {},
   "outputs": [],
   "source": [
    "compressed_signal = tmp.groupby(tmp.date.dt.floor('h'))[0].mean().values\n",
    "y_train, y_test = split_series(compressed_signal, 0.8)"
   ]
  },
  {
   "cell_type": "markdown",
   "metadata": {},
   "source": [
    "Fit model"
   ]
  },
  {
   "cell_type": "code",
   "execution_count": null,
   "metadata": {},
   "outputs": [],
   "source": [
    "model = pm.auto_arima(y_train, start_p=1, start_q=1, max_p=6, max_q=6,\n",
    "                      start_P=0, \n",
    "                      trace=True,\n",
    "                      n_jobs=4,  # depends on cpu\n",
    "                      error_action='ignore',\n",
    "                      suppress_warnings=True,\n",
    "                      stepwise=False, random=True, random_state=42,\n",
    "                      n_fits=100)\n",
    "\n",
    "model.summary()"
   ]
  },
  {
   "cell_type": "code",
   "execution_count": null,
   "metadata": {},
   "outputs": [],
   "source": [
    "pred = model.predict(89)\n",
    "print(f'MAE: {mean_absolute_error(y_test[:89], pred)}, RMSE: {mean_squared_error(y_test[:89], pred, squared=False)}')"
   ]
  },
  {
   "cell_type": "code",
   "execution_count": null,
   "metadata": {},
   "outputs": [],
   "source": [
    "sns.lineplot(y_test[:89])\n",
    "sns.lineplot(pred)"
   ]
  },
  {
   "cell_type": "markdown",
   "metadata": {},
   "source": [
    "Fit model. Use $F_{t-1}$"
   ]
  },
  {
   "cell_type": "code",
   "execution_count": null,
   "metadata": {},
   "outputs": [],
   "source": [
    "history = [y for y in y_train]\n",
    "predictions = []\n",
    "\n",
    "for i in range(1, len(y_test)):\n",
    "  # print(i)\n",
    "  model = ARIMA(history[-50:], order=(0, 2, 2)) # holt's smoothing\n",
    "  model = model.fit()\n",
    "\n",
    "  yhat = model.forecast()[0]\n",
    "  predictions.append(yhat)\n",
    "\n",
    "  obs = y_test[i]\n",
    "  history.append(obs)"
   ]
  },
  {
   "cell_type": "code",
   "execution_count": null,
   "metadata": {},
   "outputs": [],
   "source": [
    "plt.plot(y_test, label='test')\n",
    "plt.plot(predictions, label='pred')\n",
    "plt.legend()"
   ]
  },
  {
   "cell_type": "code",
   "execution_count": null,
   "metadata": {},
   "outputs": [],
   "source": [
    "print(f'MAE: {mean_absolute_error(y_test[:-1], predictions)}, RMSE: {mean_squared_error(y_test[:-1], predictions, squared=False)}')"
   ]
  },
  {
   "cell_type": "code",
   "execution_count": null,
   "metadata": {},
   "outputs": [],
   "source": []
  }
 ],
 "metadata": {
  "kernelspec": {
   "display_name": ".venv",
   "language": "python",
   "name": "python3"
  },
  "language_info": {
   "codemirror_mode": {
    "name": "ipython",
    "version": 3
   },
   "file_extension": ".py",
   "mimetype": "text/x-python",
   "name": "python",
   "nbconvert_exporter": "python",
   "pygments_lexer": "ipython3",
   "version": "3.12.3"
  }
 },
 "nbformat": 4,
 "nbformat_minor": 2
}
