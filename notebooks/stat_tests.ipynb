{
 "cells": [
  {
   "cell_type": "code",
   "execution_count": null,
   "metadata": {},
   "outputs": [],
   "source": [
    "import pandas as pd\n",
    "import numpy as np\n",
    "\n",
    "import seaborn as sns\n",
    "import matplotlib.pyplot as plt\n",
    "\n",
    "from sklearn.svm import SVR\n",
    "from sklearn.linear_model import BayesianRidge\n",
    "from sklearn.ensemble import RandomForestRegressor, GradientBoostingRegressor\n",
    "\n",
    "from sklearn.decomposition import PCA\n",
    "from sklearn.preprocessing import StandardScaler\n",
    "from sklearn.metrics import mean_squared_error, mean_absolute_percentage_error, r2_score\n",
    "\n",
    "from statsmodels.tsa.statespace.varmax import VARMAX\n",
    "from statsmodels.tsa.stattools import adfuller, kpss\n",
    "\n",
    "from scipy.stats import f_oneway"
   ]
  },
  {
   "cell_type": "code",
   "execution_count": null,
   "metadata": {},
   "outputs": [],
   "source": [
    "df = pd.read_csv(\"../data/processed/mixed/features.csv\")"
   ]
  },
  {
   "cell_type": "code",
   "execution_count": null,
   "metadata": {},
   "outputs": [],
   "source": [
    "date = df[\"Unnamed: 0\"]\n",
    "df = df.drop(\"Unnamed: 0\", axis=1)"
   ]
  },
  {
   "cell_type": "markdown",
   "metadata": {},
   "source": [
    "ANOVA"
   ]
  },
  {
   "cell_type": "code",
   "execution_count": null,
   "metadata": {},
   "outputs": [],
   "source": [
    "df[\"time2death\"] = np.arange(df.shape[0], 0, -1)"
   ]
  },
  {
   "cell_type": "code",
   "execution_count": null,
   "metadata": {},
   "outputs": [],
   "source": [
    "target = df[\"time2death\"]\n",
    "df = df.drop(\"time2death\", axis=1)"
   ]
  },
  {
   "cell_type": "code",
   "execution_count": null,
   "metadata": {},
   "outputs": [],
   "source": [
    "feat2stat = {}\n",
    "for feat in df.columns:\n",
    "    stat, pval = f_oneway(df[feat], target)\n",
    "    feat2stat[feat] = stat\n",
    "    print(f\"feature: {feat}, f-statistic: {stat}, p-value: {pval}\")\n",
    "\n",
    "sns.barplot(feat2stat)\n",
    "plt.xticks(rotation=90)"
   ]
  },
  {
   "cell_type": "code",
   "execution_count": null,
   "metadata": {},
   "outputs": [],
   "source": [
    "stat, pval = f_oneway(*[df[col] for col in df.columns])\n",
    "print(stat, pval)"
   ]
  },
  {
   "cell_type": "markdown",
   "metadata": {},
   "source": [
    "Select features"
   ]
  },
  {
   "cell_type": "code",
   "execution_count": null,
   "metadata": {},
   "outputs": [],
   "source": [
    "feat_names = [\"kurtosis\", \"skewness\", \"mean\", \"shapeFactor\", \"2.Вибропреобразователь ППДв 5_1 СКЗ Виброускорение\", \"2.Вибропреобразователь ППДв 5_1 Рост СКЗ Виброускорения\"]\n",
    "df_selected = df[feat_names]"
   ]
  },
  {
   "cell_type": "markdown",
   "metadata": {},
   "source": [
    "PCA"
   ]
  },
  {
   "cell_type": "code",
   "execution_count": null,
   "metadata": {},
   "outputs": [],
   "source": [
    "scaler = StandardScaler()\n",
    "scaled_features = scaler.fit_transform(df_selected)"
   ]
  },
  {
   "cell_type": "code",
   "execution_count": null,
   "metadata": {},
   "outputs": [],
   "source": [
    "pca = PCA(n_components=2)\n",
    "pca2= pca.fit_transform(scaled_features)\n",
    "sns.scatterplot(x=pca2[:, 0], y=pca2[:, 1])"
   ]
  },
  {
   "cell_type": "code",
   "execution_count": null,
   "metadata": {},
   "outputs": [],
   "source": [
    "def calculate_monotonicity(df):\n",
    "    n, m = df.shape\n",
    "    monotonicities = []\n",
    "\n",
    "    for column in df.columns:\n",
    "        diffs = np.diff(df[column])\n",
    "        num_positive_diffs = np.sum(diffs > 0)\n",
    "        num_negative_diffs = np.sum(diffs < 0)\n",
    "        monotonicity = np.abs(num_positive_diffs - num_negative_diffs) / (n - 1)\n",
    "        monotonicities.append(monotonicity)\n",
    "\n",
    "    return monotonicities"
   ]
  },
  {
   "cell_type": "code",
   "execution_count": null,
   "metadata": {},
   "outputs": [],
   "source": [
    "monotonicities = calculate_monotonicity(df)\n",
    "monotonicity_df = pd.DataFrame({'Signal': df.columns, 'Monotonicity': monotonicities})\n",
    "\n",
    "monotonicity_df.sort_values(\"Monotonicity\", ascending=False)"
   ]
  },
  {
   "cell_type": "code",
   "execution_count": null,
   "metadata": {},
   "outputs": [],
   "source": [
    "sns.barplot(y=monotonicity_df[\"Signal\"], x=monotonicity_df[\"Monotonicity\"], orient='h')\n",
    "plt.axvspan(xmin=0.015, xmax=.03, color=\"red\", alpha=.5)"
   ]
  },
  {
   "cell_type": "code",
   "execution_count": null,
   "metadata": {},
   "outputs": [],
   "source": [
    "feat_names = [\"std\", \"energy\", \"2.Вибропреобразователь ППДв 5_1 СКЗ Виброускорение\", \"2.Вибропреобразователь ППДв 5_1 ПИК фактор\"]\n",
    "df_selected = df[feat_names]\n",
    "\n",
    "scaler = StandardScaler()\n",
    "scaled_features = scaler.fit_transform(df_selected)\n",
    "\n",
    "pca = PCA(n_components=2)\n",
    "pca2= pca.fit_transform(scaled_features)\n",
    "sns.scatterplot(x=pca2[:, 0], y=pca2[:, 1])"
   ]
  },
  {
   "cell_type": "code",
   "execution_count": null,
   "metadata": {},
   "outputs": [],
   "source": [
    "df[\"RUL\"] = target"
   ]
  },
  {
   "cell_type": "code",
   "execution_count": null,
   "metadata": {},
   "outputs": [],
   "source": [
    "df.columns"
   ]
  },
  {
   "cell_type": "code",
   "execution_count": null,
   "metadata": {},
   "outputs": [],
   "source": [
    "fig, ax = plt.subplots(figsize=(12, 12))\n",
    "\n",
    "corr_mat = df.corr()\n",
    "mask_feature = np.triu(np.ones_like(corr_mat, dtype=bool))\n",
    "heatmap = sns.heatmap(corr_mat, \n",
    "                      mask=mask_feature | (np.abs(corr_mat) < .5), \n",
    "                      annot=True, fmt=\".2f\", ax=ax)\n",
    "\n",
    "xticklabels = heatmap.get_xticklabels()\n",
    "yticklabels = heatmap.get_yticklabels()\n",
    "\n",
    "for label in yticklabels:\n",
    "    if len(label.get_text()) >= 15:\n",
    "        label.set_visible(False)\n",
    "\n",
    "heatmap.set_xticklabels(xticklabels)\n",
    "heatmap.set_yticklabels(yticklabels)\n",
    "\n",
    "plt.show()"
   ]
  },
  {
   "cell_type": "code",
   "execution_count": null,
   "metadata": {},
   "outputs": [],
   "source": [
    "df.columns"
   ]
  },
  {
   "cell_type": "code",
   "execution_count": null,
   "metadata": {},
   "outputs": [],
   "source": [
    "feat_names = [\"peak2peak\", \"std\", \"energy\", \n",
    "              \"2.Вибропреобразователь ППДв 5_1 СКЗ Виброускорение\", \n",
    "              \"2.Вибропреобразователь ППДв 5_1 СКЗ Виброускорения 10 кГц\",\n",
    "              \"2.Вибропреобразователь ППДв 5_1 Амплитудное значение виброускорения\",\n",
    "              \"2.Вибропреобразователь ППДв 5_1 Размах виброперемещения\",\n",
    "              \"2.Вибропреобразователь ППДв 5_1 ПИК фактор\"]\n",
    "df_selected = df[feat_names]\n",
    "\n",
    "scaler = StandardScaler()\n",
    "scaled_features = scaler.fit_transform(df_selected)\n",
    "\n",
    "pca = PCA(n_components=2)\n",
    "pca2= pca.fit_transform(scaled_features)\n",
    "sns.scatterplot(x=pca2[:, 0], y=pca2[:, 1])"
   ]
  },
  {
   "cell_type": "code",
   "execution_count": null,
   "metadata": {},
   "outputs": [],
   "source": [
    "signals = df.drop(\"RUL\", axis=1)"
   ]
  },
  {
   "cell_type": "code",
   "execution_count": null,
   "metadata": {},
   "outputs": [],
   "source": [
    "from statsmodels.graphics.tsaplots import plot_acf, plot_pacf\n",
    "plt.figure(figsize=(15, 20))\n",
    "for i, signal in enumerate(signals, 1):\n",
    "    plt.subplot(13, 2, 2*i-1)\n",
    "    plot_acf(signals[signal], lags=24, ax=plt.gca())\n",
    "    plt.title(f'ACF для сигнала {signal[:50]}')\n",
    "\n",
    "# Построение PACF для каждого сигнала\n",
    "for i, signal in enumerate(signals, 1):\n",
    "    plt.subplot(13, 2, 2*i)\n",
    "    plot_pacf(signals[signal], lags=24, ax=plt.gca())\n",
    "    plt.title(f'PACF для сигнала {signal[:50]}')\n",
    "\n",
    "plt.tight_layout()\n",
    "plt.show()"
   ]
  },
  {
   "cell_type": "markdown",
   "metadata": {},
   "source": [
    "PACF - 1 лаг  \n",
    "ACF -  0 "
   ]
  },
  {
   "cell_type": "markdown",
   "metadata": {},
   "source": [
    "Много плавноубывающих признаков. Данные очень шумные. Автокорреляция бесполезная."
   ]
  },
  {
   "cell_type": "code",
   "execution_count": null,
   "metadata": {},
   "outputs": [],
   "source": [
    "feat_names = [\"kurtosis\", \"skewness\", \"mean\", \"shapeFactor\", \"2.Вибропреобразователь ППДв 5_1 Рост СКЗ Виброускорения\"]\n",
    "df_selected = df[feat_names]"
   ]
  },
  {
   "cell_type": "code",
   "execution_count": null,
   "metadata": {},
   "outputs": [],
   "source": [
    "for col in feat_names:\n",
    "    result = adfuller(df_selected[col])\n",
    "    print(f'ADF статистика для {col}: {result[0]}, p-value: {result[1]}')\n",
    "\n",
    "for col in feat_names:\n",
    "    result = kpss(df_selected[col])\n",
    "    print(f'KPSS статистика для {col}: {result[0]}, p-value: {result[1]}')"
   ]
  },
  {
   "cell_type": "markdown",
   "metadata": {},
   "source": [
    "Будем считать, что признаки стационарны"
   ]
  },
  {
   "cell_type": "code",
   "execution_count": null,
   "metadata": {},
   "outputs": [],
   "source": [
    "model = VARMAX(df_selected, order=())  # Пример: модель с одним лагом и одним разностью\n",
    "result = model.fit(1, 0)\n"
   ]
  },
  {
   "cell_type": "markdown",
   "metadata": {},
   "source": [
    "НЕСТАЦИОНАРНЫЕ ОБРАТНО КОРЕЛЛИРОВАННЫЕ ПРИЗНАКИ"
   ]
  },
  {
   "cell_type": "code",
   "execution_count": null,
   "metadata": {},
   "outputs": [],
   "source": [
    "feat_names = [\"peak2peak\", \"std\", \"energy\", \n",
    "              \"2.Вибропреобразователь ППДв 5_1 СКЗ Виброускорение\", \n",
    "              \"2.Вибропреобразователь ППДв 5_1 СКЗ Виброускорения 10 кГц\",\n",
    "              \"2.Вибропреобразователь ППДв 5_1 Амплитудное значение виброускорения\",\n",
    "              \"2.Вибропреобразователь ППДв 5_1 Размах виброперемещения\",\n",
    "              \"2.Вибропреобразователь ППДв 5_1 ПИК фактор\"]\n",
    "df_selected = df[feat_names]\n",
    "\n",
    "scaler = StandardScaler()\n",
    "scaled_features = scaler.fit_transform(df_selected)"
   ]
  },
  {
   "cell_type": "markdown",
   "metadata": {},
   "source": [
    "Добавление скользящих признаков"
   ]
  },
  {
   "cell_type": "code",
   "execution_count": null,
   "metadata": {},
   "outputs": [],
   "source": [
    "# ADD EMA WITH DIFFERENT LENGTH\n",
    "# LAGS\n"
   ]
  },
  {
   "cell_type": "markdown",
   "metadata": {},
   "source": [
    "Регрессируем RUL (дефолтные параметры)"
   ]
  },
  {
   "cell_type": "code",
   "execution_count": null,
   "metadata": {},
   "outputs": [],
   "source": [
    "# Split data\n",
    "rul_model = GradientBoostingRegressor()\n",
    "\n",
    "# Пробуем теперь по всем сигналам регрессировать\n",
    "# Отобранные сигналы не дали нормального результата\n",
    "feat_train, rul_train = scaled_features[:1000], df[\"RUL\"].iloc[:1000]\n",
    "feat_test, rul_test = scaled_features[1000:], df[\"RUL\"].iloc[1000:]\n",
    "\n",
    "rul_model.fit(feat_train, rul_train)\n",
    "\n",
    "pred = rul_model.predict(feat_test)\n",
    "\n",
    "print(f\"rmse: {mean_squared_error(rul_test, pred, squared=False)}, mape: {mean_absolute_percentage_error(rul_test, pred)}, r2: {r2_score(rul_test, pred)}\")\n"
   ]
  },
  {
   "cell_type": "code",
   "execution_count": null,
   "metadata": {},
   "outputs": [],
   "source": [
    "sns.lineplot(pred)"
   ]
  },
  {
   "cell_type": "code",
   "execution_count": null,
   "metadata": {},
   "outputs": [],
   "source": [
    "pred[-10:]"
   ]
  },
  {
   "cell_type": "code",
   "execution_count": null,
   "metadata": {},
   "outputs": [],
   "source": []
  }
 ],
 "metadata": {
  "kernelspec": {
   "display_name": ".venv",
   "language": "python",
   "name": "python3"
  },
  "language_info": {
   "codemirror_mode": {
    "name": "ipython",
    "version": 3
   },
   "file_extension": ".py",
   "mimetype": "text/x-python",
   "name": "python",
   "nbconvert_exporter": "python",
   "pygments_lexer": "ipython3",
   "version": "3.10.7"
  }
 },
 "nbformat": 4,
 "nbformat_minor": 2
}
