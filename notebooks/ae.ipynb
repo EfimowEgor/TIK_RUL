{
 "cells": [
  {
   "cell_type": "code",
   "execution_count": null,
   "metadata": {},
   "outputs": [],
   "source": [
    "import os\n",
    "\n",
    "from collections import defaultdict\n",
    "\n",
    "import pandas as pd\n",
    "import numpy as np\n",
    "\n",
    "import seaborn as sns\n",
    "import matplotlib.pyplot as plt\n",
    "\n",
    "import plotly.graph_objects as go\n",
    "from plotly.subplots import make_subplots\n",
    "\n",
    "from DataLoader import (\n",
    "    loader,\n",
    "    config\n",
    ")\n",
    "\n",
    "from Processer import preprocesser\n",
    "\n",
    "from sklearn.decomposition import PCA\n",
    "from sklearn.preprocessing import MinMaxScaler\n",
    "\n",
    "import torch\n",
    "import torch.nn as nn\n",
    "from torch.utils.data import DataLoader, TensorDataset"
   ]
  },
  {
   "cell_type": "code",
   "execution_count": null,
   "metadata": {},
   "outputs": [],
   "source": [
    "df = pd.read_csv(\"../data/processed/mixed/features.csv\")"
   ]
  },
  {
   "cell_type": "code",
   "execution_count": null,
   "metadata": {},
   "outputs": [],
   "source": [
    "date = df[\"Unnamed: 0\"]\n",
    "df = df.drop(\"Unnamed: 0\", axis=1)"
   ]
  },
  {
   "cell_type": "code",
   "execution_count": null,
   "metadata": {},
   "outputs": [],
   "source": [
    "feat_names = [\"kurtosis\", \"skewness\", \"mean\", \"shapeFactor\", \"2.Вибропреобразователь ППДв 5_1 Рост СКЗ Виброускорения\"]\n",
    "df_selected = df[feat_names]"
   ]
  },
  {
   "cell_type": "code",
   "execution_count": null,
   "metadata": {},
   "outputs": [],
   "source": [
    "class CustomAutoencoder(nn.Module):\n",
    "    def __init__(self, param):\n",
    "        super(CustomAutoencoder, self).__init__()\n",
    "        self.encoder = nn.Sequential(\n",
    "            nn.Linear(param[0], param[1]),\n",
    "            nn.BatchNorm1d(param[1]),\n",
    "            nn.ReLU(),\n",
    "            nn.Linear(param[1], param[2]),\n",
    "            nn.BatchNorm1d(param[2]),\n",
    "            nn.ReLU(),\n",
    "            nn.Linear(param[2], param[3])\n",
    "        )\n",
    "        self.decoder = nn.Sequential(\n",
    "            nn.Linear(param[3], param[2]),\n",
    "            nn.BatchNorm1d(param[2]),\n",
    "            nn.ReLU(),\n",
    "            nn.Linear(param[2], param[1]),\n",
    "            nn.BatchNorm1d(param[1]),\n",
    "            nn.ReLU(),\n",
    "            nn.Linear(param[1], param[0])\n",
    "        )\n",
    "\n",
    "    def forward(self, x):\n",
    "        x = self.encoder(x)\n",
    "        x = self.decoder(x)\n",
    "        return x\n",
    "\n",
    "def arch(param, data):\n",
    "    model = CustomAutoencoder(param)\n",
    "    criterion = nn.MSELoss()\n",
    "    optimizer = torch.optim.Adam(model.parameters(), lr=param[4])\n",
    "    \n",
    "    # Предполагая, что data это TensorDataset, а не np.array\n",
    "    train_loader = DataLoader(data, batch_size=param[5])\n",
    "    \n",
    "    for epoch in range(100):\n",
    "        running_loss = 0.0\n",
    "        for inputs in train_loader:\n",
    "            inputs = inputs[0]\n",
    "            optimizer.zero_grad()\n",
    "            outputs = model(inputs)\n",
    "            loss = criterion(outputs, inputs)\n",
    "            loss.backward()\n",
    "            optimizer.step()\n",
    "            running_loss += loss.item()\n",
    "        print(f\"Epoch {epoch+1}, Loss: {running_loss / len(train_loader)}\")\n",
    "    \n",
    "    return model"
   ]
  },
  {
   "cell_type": "code",
   "execution_count": null,
   "metadata": {},
   "outputs": [],
   "source": [
    "train_data = df_selected.iloc[:700]\n",
    "val_data = df_selected.iloc[700:1000]\n",
    "test_data = df_selected.iloc[1000:]\n",
    "\n",
    "X_train = torch.tensor(train_data.values, dtype=torch.float32)\n",
    "X_val = torch.tensor(val_data.values, dtype=torch.float32)\n",
    "X_test = torch.tensor(test_data.values, dtype=torch.float32)"
   ]
  },
  {
   "cell_type": "code",
   "execution_count": null,
   "metadata": {},
   "outputs": [],
   "source": [
    "input_size = 5\n",
    "param = [input_size, 64, 32, 16, 0.001, 32]\n",
    "\n",
    "train_dataset = TensorDataset(X_train)\n",
    "\n",
    "trained_model = arch(param, train_dataset)"
   ]
  },
  {
   "cell_type": "code",
   "execution_count": null,
   "metadata": {},
   "outputs": [],
   "source": [
    "reconstructed = trained_model(X_val)"
   ]
  },
  {
   "cell_type": "code",
   "execution_count": null,
   "metadata": {},
   "outputs": [],
   "source": [
    "sns.lineplot(reconstructed[:, 4].detach().numpy())\n",
    "sns.lineplot(X_val[:, 4], c=\"red\")"
   ]
  },
  {
   "cell_type": "code",
   "execution_count": null,
   "metadata": {},
   "outputs": [],
   "source": [
    "sns.lineplot(X_val - reconstructed.detach().numpy())\n",
    "plt.yscale(\"log\")\n",
    "plt.xscale(\"log\")"
   ]
  },
  {
   "cell_type": "code",
   "execution_count": null,
   "metadata": {},
   "outputs": [],
   "source": [
    "reconstructed = trained_model(X_train)\n",
    "sns.lineplot(X_train - reconstructed.detach().numpy())\n",
    "# plt.yscale(\"log\")"
   ]
  },
  {
   "cell_type": "code",
   "execution_count": null,
   "metadata": {},
   "outputs": [],
   "source": [
    "(X_train - reconstructed.detach().numpy()).min()"
   ]
  },
  {
   "cell_type": "code",
   "execution_count": null,
   "metadata": {},
   "outputs": [],
   "source": [
    "X = torch.tensor(df_selected.values, dtype=torch.float32)"
   ]
  },
  {
   "cell_type": "code",
   "execution_count": null,
   "metadata": {},
   "outputs": [],
   "source": [
    "thresholds = []\n",
    "\n",
    "for col in X.T:\n",
    "    thresholds.append(col.mean() + col.std())\n"
   ]
  },
  {
   "cell_type": "code",
   "execution_count": null,
   "metadata": {},
   "outputs": [],
   "source": [
    "def calc_cumulative_error(data, thresh):\n",
    "    # Traverse array linearly\n",
    "    values = data.tolist()\n",
    "    errors = [0] * len(values)\n",
    "    for i in range(1, len(values)):\n",
    "        if values[i] >= thresh:\n",
    "            errors[i] += errors[i - 1] + 1\n",
    "        else:\n",
    "            errors[i] = errors[i - 1]\n",
    "            \n",
    "    return errors"
   ]
  },
  {
   "cell_type": "code",
   "execution_count": null,
   "metadata": {},
   "outputs": [],
   "source": [
    "recon = trained_model(X).detach().numpy()\n",
    "error_mat = []\n",
    "for i, col in enumerate(recon.T):\n",
    "    error_mat.append(calc_cumulative_error(col, thresholds[i]))"
   ]
  },
  {
   "cell_type": "code",
   "execution_count": null,
   "metadata": {},
   "outputs": [],
   "source": [
    "sns.lineplot(error_mat)"
   ]
  },
  {
   "cell_type": "code",
   "execution_count": null,
   "metadata": {},
   "outputs": [],
   "source": [
    "df_selected"
   ]
  },
  {
   "cell_type": "markdown",
   "metadata": {},
   "source": [
    "Попробуем рассмотреть все признаки"
   ]
  },
  {
   "cell_type": "code",
   "execution_count": null,
   "metadata": {},
   "outputs": [],
   "source": [
    "scaler = MinMaxScaler(feature_range=(0, 1))\n",
    "df = scaler.fit_transform(df)\n",
    "\n",
    "X = torch.tensor(df, dtype=torch.float32)\n",
    "\n",
    "thresholds = []\n",
    "for col in X.T:\n",
    "    thresholds.append(col.mean() + 2*col.std())\n"
   ]
  },
  {
   "cell_type": "code",
   "execution_count": null,
   "metadata": {},
   "outputs": [],
   "source": [
    "train_data = df[:700]\n",
    "val_data = df[700:1000]\n",
    "test_data = df[1000:]\n",
    "\n",
    "X_train = torch.tensor(train_data, dtype=torch.float32)\n",
    "X_val = torch.tensor(val_data, dtype=torch.float32)\n",
    "X_test = torch.tensor(test_data, dtype=torch.float32)"
   ]
  },
  {
   "cell_type": "code",
   "execution_count": null,
   "metadata": {},
   "outputs": [],
   "source": [
    "input_size = 13\n",
    "param = [input_size, 64, 32, 16, 0.001, 32]\n",
    "\n",
    "train_dataset = TensorDataset(X_train)\n",
    "\n",
    "trained_model = arch(param, train_dataset)"
   ]
  },
  {
   "cell_type": "code",
   "execution_count": null,
   "metadata": {},
   "outputs": [],
   "source": [
    "recon = trained_model(X).detach().numpy()\n",
    "error_mat = []\n",
    "for i, col in enumerate(recon.T):\n",
    "    error_mat.append(calc_cumulative_error(col, thresholds[i]))\n",
    "sns.lineplot(error_mat, legend=False)\n",
    "# plt.yscale(\"log\")"
   ]
  },
  {
   "cell_type": "code",
   "execution_count": null,
   "metadata": {},
   "outputs": [],
   "source": [
    "sns.lineplot(df[:, -1])\n",
    "plt.axhline(df[:, -1].mean(), c=\"red\")\n",
    "plt.axhspan(ymin=df[:, -1].mean() - 2*df[:, -1].std(), ymax=df[:, -1].mean() + 2*df[:, -1].std(), alpha=0.5)"
   ]
  },
  {
   "cell_type": "code",
   "execution_count": null,
   "metadata": {},
   "outputs": [],
   "source": [
    "sns.lineplot(np.sum(np.array(error_mat), axis=0))"
   ]
  },
  {
   "cell_type": "code",
   "execution_count": null,
   "metadata": {},
   "outputs": [],
   "source": [
    "def normalize_errors(errors):\n",
    "    max_error = max(errors)\n",
    "    if max_error == 0:\n",
    "        return [0] * len(errors) \n",
    "    normalized = [e / max_error for e in errors]\n",
    "    return normalized\n",
    "\n",
    "def invert_normalized_errors(normalized_errors):\n",
    "    health_indicator = [1 - e for e in normalized_errors]\n",
    "    return health_indicator"
   ]
  },
  {
   "cell_type": "code",
   "execution_count": null,
   "metadata": {},
   "outputs": [],
   "source": [
    "normalized_errors = normalize_errors(np.sum(np.array(error_mat), axis=0))\n",
    "health_indicator = invert_normalized_errors(normalized_errors)\n",
    "sns.lineplot(health_indicator)"
   ]
  },
  {
   "cell_type": "code",
   "execution_count": null,
   "metadata": {},
   "outputs": [],
   "source": [
    "# Добавление первого графика\n",
    "fig = go.Figure()\n",
    "fig.add_trace(go.Scatter(x=np.arange(len(health_indicator)), y=health_indicator, mode=\"lines\", name=\"HI\"))\n",
    "fig.update_layout(\n",
    "    title=\"Health Indicator\",\n",
    "    xaxis_title=\"Index\",\n",
    "    yaxis_title=\"Health Indicator\",\n",
    "    template=\"plotly_dark\"\n",
    ")"
   ]
  },
  {
   "cell_type": "code",
   "execution_count": null,
   "metadata": {},
   "outputs": [],
   "source": [
    "fig, ax = plt.subplots()\n",
    "sns.lineplot(health_indicator, ax=ax)\n",
    "sns.lineplot(np.linspace(1, 0, 2155), ax=ax)"
   ]
  },
  {
   "cell_type": "code",
   "execution_count": null,
   "metadata": {},
   "outputs": [],
   "source": []
  }
 ],
 "metadata": {
  "kernelspec": {
   "display_name": ".venv",
   "language": "python",
   "name": "python3"
  },
  "language_info": {
   "codemirror_mode": {
    "name": "ipython",
    "version": 3
   },
   "file_extension": ".py",
   "mimetype": "text/x-python",
   "name": "python",
   "nbconvert_exporter": "python",
   "pygments_lexer": "ipython3",
   "version": "3.10.7"
  }
 },
 "nbformat": 4,
 "nbformat_minor": 2
}
