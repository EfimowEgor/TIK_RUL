{
 "cells": [
  {
   "cell_type": "code",
   "execution_count": null,
   "metadata": {},
   "outputs": [],
   "source": [
    "import os\n",
    "\n",
    "from collections import defaultdict\n",
    "\n",
    "import pandas as pd\n",
    "import numpy as np\n",
    "\n",
    "import seaborn as sns\n",
    "import matplotlib.pyplot as plt\n",
    "\n",
    "from DataLoader import (\n",
    "    loader,\n",
    "    config\n",
    ")\n",
    "\n",
    "from Processer import preprocesser\n",
    "\n",
    "from sklearn.decomposition import PCA"
   ]
  },
  {
   "cell_type": "code",
   "execution_count": null,
   "metadata": {},
   "outputs": [],
   "source": [
    "data_path = '../data/raw/historical'\n",
    "\n",
    "files = os.listdir(data_path)\n",
    "\n",
    "# make a dict, key - file_name_last part\n",
    "dta = dict()\n",
    "# Collection of transformed compressed signals\n",
    "datasets = []\n",
    "for file in files:\n",
    "    df = pd.read_csv(os.path.join(data_path, file), skiprows=config.COUNT_SKIP, sep=';')\n",
    "    df = loader.fill_empty(loader.transform_header(df))\n",
    "    # Compress signal\n",
    "    compressed = preprocesser.compress(df, floor='10min', method='mean')\n",
    "    datasets.append(compressed)\n",
    "\n",
    "min_length = min(df.shape[0] for df in datasets) \n",
    "min_index = set() \n",
    "for i, elem in enumerate(datasets):\n",
    "    if elem.shape[0] == min_length:\n",
    "        min_index = set(datasets[i].index)\n",
    "\n",
    "if len(min_index) == 0:\n",
    "    raise ValueError(f\"Min index can not be None\")\n",
    "\n",
    "for df in datasets[1:]:\n",
    "    min_index.intersection_update(df.index)\n",
    "min_index = list(min_index)\n",
    "\n",
    "for i, df in enumerate(datasets):\n",
    "    datasets[i] = df.loc[min_index]\n",
    "\n",
    "# Проверка, что даты совпадают\n",
    "for i in range(len(files)):\n",
    "    for j in range(i + 1, len(files)):\n",
    "        assert np.setdiff1d(datasets[i].index, datasets[j].index).size == 0, f\"Intersection has shape {np.setdiff1d(datasets[i].index, datasets[j].index).shape}\"\n",
    "\n",
    "for i in range(len(datasets)):\n",
    "    datasets[i].sort_index(inplace=True)\n",
    "\n",
    "for i, file in enumerate(files):\n",
    "\n",
    "    splitted = loader.split(datasets[i].columns)\n",
    "    group = loader.group(splitted, datasets[i])\n",
    "\n",
    "    dta[file] = group"
   ]
  },
  {
   "cell_type": "code",
   "execution_count": null,
   "metadata": {},
   "outputs": [],
   "source": [
    "# Записать сгруппированные\n",
    "res = loader.get_components(dta)"
   ]
  },
  {
   "cell_type": "code",
   "execution_count": null,
   "metadata": {},
   "outputs": [],
   "source": [
    "lens = set()\n",
    "for array in res:\n",
    "    lens.add(array.shape[0]) # Потому что мы знаем, что индексы не различаются"
   ]
  },
  {
   "cell_type": "code",
   "execution_count": null,
   "metadata": {},
   "outputs": [],
   "source": []
  },
  {
   "cell_type": "code",
   "execution_count": null,
   "metadata": {},
   "outputs": [],
   "source": [
    "pca = PCA(n_components=2)\n",
    "\n",
    "fig, ax = plt.subplots(5, 4, figsize=(14,14))\n",
    "\n",
    "for i, elem in enumerate(res):\n",
    "    for j in range(5): \n",
    "        if j == 2:\n",
    "            continue\n",
    "        if res[i].shape[0] == 10:\n",
    "            sns.lineplot(preprocesser.exponential_moving_average(res[i][j*2], window=50), ax=ax[j][i])\n",
    "            sns.lineplot(preprocesser.exponential_moving_average(res[i][j*2+1], window=50), ax=ax[j][i])\n",
    "        else:\n",
    "            sns.lineplot(preprocesser.exponential_moving_average(res[i][j], window=50), ax=ax[j][i])\n"
   ]
  },
  {
   "cell_type": "markdown",
   "metadata": {},
   "source": [
    "Рассмотрим как будет получаться, если не брать виброперемещение (и ускорение)"
   ]
  },
  {
   "cell_type": "code",
   "execution_count": null,
   "metadata": {},
   "outputs": [],
   "source": [
    "squash_combined = preprocesser.normilize(res[2])"
   ]
  },
  {
   "cell_type": "code",
   "execution_count": null,
   "metadata": {},
   "outputs": [],
   "source": [
    "norm_signals = []\n",
    "for i, signal in enumerate(res):\n",
    "    norm_signals.append(preprocesser.normilize(signal))"
   ]
  },
  {
   "cell_type": "code",
   "execution_count": null,
   "metadata": {},
   "outputs": [],
   "source": [
    "r = []\n",
    "for i in range(4): \n",
    "    for j in range(5):\n",
    "        if j == 1 or j == 2:\n",
    "            continue\n",
    "        r.append(norm_signals[i][j])\n",
    "\n",
    "r = [r[i:i+3] for i in range(0, len(r), 3)]"
   ]
  },
  {
   "cell_type": "code",
   "execution_count": null,
   "metadata": {},
   "outputs": [],
   "source": [
    "r[3]"
   ]
  },
  {
   "cell_type": "code",
   "execution_count": null,
   "metadata": {},
   "outputs": [],
   "source": [
    "# sns.lineplot(preprocesser.exponential_moving_average(abs(pca.fit_transform(norm_signals[1:3].T)[:,1]), window=100))\n",
    "fig, ax = plt.subplots(4, figsize=(12, 12))\n",
    "for i in range(4):\n",
    "    sns.lineplot(preprocesser.exponential_moving_average(abs(pca.fit_transform(np.array(r[i]).T)[:,1]), window=100), ax=ax[i])"
   ]
  },
  {
   "cell_type": "code",
   "execution_count": null,
   "metadata": {},
   "outputs": [],
   "source": [
    "# sns.scatterplot(x=preprocesser.exponential_moving_average(abs(pca.fit_transform(preprocesser.normilize(res[0]).T))[:, 1], window=100)[:100],\n",
    "#                 y=preprocesser.exponential_moving_average(abs(pca.fit_transform(preprocesser.normilize(res[0]).T))[:, 0], window=100)[:100],\n",
    "#                 hue=np.arange(100))\n",
    "# ----------\n",
    "# sns.scatterplot(x=abs(pca.fit_transform(preprocesser.normilize(res[0]).T))[:, 0][:2000],\n",
    "#                 y=abs(pca.fit_transform(preprocesser.normilize(res[0]).T))[:, 1][:2000],\n",
    "#                 hue=np.arange(2000))"
   ]
  },
  {
   "cell_type": "code",
   "execution_count": null,
   "metadata": {},
   "outputs": [],
   "source": []
  }
 ],
 "metadata": {
  "kernelspec": {
   "display_name": ".venv",
   "language": "python",
   "name": "python3"
  },
  "language_info": {
   "codemirror_mode": {
    "name": "ipython",
    "version": 3
   },
   "file_extension": ".py",
   "mimetype": "text/x-python",
   "name": "python",
   "nbconvert_exporter": "python",
   "pygments_lexer": "ipython3",
   "version": "3.10.7"
  }
 },
 "nbformat": 4,
 "nbformat_minor": 2
}
